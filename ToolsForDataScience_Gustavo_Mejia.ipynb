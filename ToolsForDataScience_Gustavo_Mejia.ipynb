{
  "metadata": {
    "kernelspec": {
      "name": "xpython",
      "display_name": "Python 3.13 (XPython)",
      "language": "python"
    },
    "language_info": {
      "file_extension": ".py",
      "mimetype": "text/x-python",
      "name": "python",
      "version": "3.13.1"
    }
  },
  "nbformat_minor": 5,
  "nbformat": 4,
  "cells": [
    {
      "id": "854d6682-971b-4964-b80b-3d7bd3ad3172",
      "cell_type": "markdown",
      "source": "# Data Science Tools and Ecosystem",
      "metadata": {}
    },
    {
      "id": "3cfc9a1a-50b4-46e6-94d2-d77f70130aac",
      "cell_type": "markdown",
      "source": "#### Introduction\n\nIn this notebook the Data Science Tools and Ecosystems will be sumarized.",
      "metadata": {}
    },
    {
      "id": "af85a0f5-3146-4467-98fe-eb7afe344aa0",
      "cell_type": "markdown",
      "source": "**Objectives:**\n* List popular languages for Data Science\n* List commonly used libreries used by Data Scientists\n* List of Data Science Tools\n* Then some examples of arithmetic evaluation with python\n",
      "metadata": {}
    },
    {
      "id": "7b602b85-ddf3-46c9-8eb4-2b37320d63e0",
      "cell_type": "markdown",
      "source": "Some of the popular languages that Data Scientists use are:\n\nPython\n* SQL\n* R\n* Scala\n",
      "metadata": {}
    },
    {
      "id": "80d8ab61-6f2c-43fa-97e9-836f7ffe9057",
      "cell_type": "markdown",
      "source": "Some of the commonly used libraries used by Data Scientists include:\n\n- Pandas\n- NumPy\n- Matplotlib\n- Seaborn\n- dplyr\n- ggplot2",
      "metadata": {}
    },
    {
      "id": "b5827561-e450-40eb-91da-47de1039c6c4",
      "cell_type": "markdown",
      "source": "|Data Science Tools|\n|------------------|\n|Jupyter|\n|GitHub|\n|Python|",
      "metadata": {}
    },
    {
      "id": "e6a9076b-3c65-424a-b4ac-e68ed295100b",
      "cell_type": "markdown",
      "source": "### Below are a few examples of evaluating arithmetic expressions in Python\n\n$3 + 5 = 8$ <br>\n$ \\sqrt{4} = 2$",
      "metadata": {}
    },
    {
      "id": "b96daab0-2a19-4d07-8595-1782f0c8c91d",
      "cell_type": "code",
      "source": "# This a simple arithmetic expression to mutiply then add integers\n(3*4)+5",
      "metadata": {
        "trusted": true
      },
      "outputs": [
        {
          "execution_count": 1,
          "output_type": "execute_result",
          "data": {
            "text/plain": "17"
          },
          "metadata": {}
        }
      ],
      "execution_count": 1
    },
    {
      "id": "fea0a225-8d4e-4d36-9f29-7dfd8d1ab8a0",
      "cell_type": "code",
      "source": "# This will convert 200 minutes to hours by diving by 60\nm = int(input())\nh = m/60\nprint(f\"{m} minutes is {h} hours\")",
      "metadata": {
        "trusted": true
      },
      "outputs": [
        {
          "output_type": "stream",
          "name": "stdin",
          "text": " 200\n"
        },
        {
          "name": "stdout",
          "output_type": "stream",
          "text": "200 minutes is 3.3333333333333335 hours\n"
        }
      ],
      "execution_count": 6
    },
    {
      "id": "7f0efd97-338d-4dc2-b5b0-49e5e28f1f96",
      "cell_type": "markdown",
      "source": "## Author\nGustavo Mejia",
      "metadata": {}
    },
    {
      "id": "4ad9ebb1-a9e5-41ee-bede-dd4a6cc4c27a",
      "cell_type": "code",
      "source": "",
      "metadata": {
        "trusted": true
      },
      "outputs": [],
      "execution_count": null
    }
  ]
}